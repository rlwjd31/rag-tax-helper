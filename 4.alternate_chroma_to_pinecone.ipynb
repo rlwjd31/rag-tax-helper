{
 "cells": [
  {
   "cell_type": "markdown",
   "id": "ee4cc665",
   "metadata": {},
   "source": [
    "# Chroma to Pinecone[[🔗Link](https://python.langchain.com/docs/integrations/vectorstores/pinecone/)]\n",
    "\n",
    "<span style=\"color:green;\">_**opensource(무료) 중에는 `Faiss`**_ 도 대안으로 생각할 수 있다.</span>\n",
    "\n",
    "pinecone은 in-memory기반의 db와 다르게 AWS cloud환경에서 db를 구축한다.  \n",
    "일반적으로 RDB에서의 database를 `인덱스`라고 부른다.  \n",
    "pinecone에서는 인덱스를 5개 즉, 5개의 db를 무료로 지원한다.  \n",
    "\n",
    "`pinecone의 api_key`는 chroma와 달리 따로 필요하므로 pinecone console에서 api key를 발급받아야 한다."
   ]
  },
  {
   "cell_type": "markdown",
   "id": "d9362c9b",
   "metadata": {},
   "source": [
    "pinecone에서 index(DB)를 생성하기 위해서 pinecone console에서 index를 아래와 같이 생성해야 한다.  \n",
    "embedding과 관련된 model을 선택하는데 openai를 사용하므로 `text-embedding-3-large`를 선택한다.  \n",
    "여기서 dimension(vector의 길이)과 metric(유사도 측정 방법; 유클리디언과 코사인 유사도)을 선택할 수 있다.  \n",
    "\n",
    "유사도\n",
    "- 유클리디언: 내적이므로 값이 `클수록 유사도가 높다.`\n",
    "- 코사인: 두 vector 사이의 각도를 재는 것으로 값이 `낮을수록 유사도가 높다.`\n",
    "\n",
    "![create-pinecone-db](./create_pinecone_DB.png)\n",
    "\n",
    "\n",
    "<span style=\"color: orange;\">\n",
    "위에서 dimension을 1024로 설정했는데 embedding-large의 dimension은 3072로 오류가 나 index를 다시 삭제하고 다시 생성함.  \n",
    "</span>"
   ]
  },
  {
   "cell_type": "markdown",
   "id": "4e6f71fe",
   "metadata": {},
   "source": [
    "## Embedding Dimension이란?\n",
    "\n",
    "# ![dimension explanation](./dimension.png)\n"
   ]
  },
  {
   "cell_type": "code",
   "execution_count": 2,
   "id": "c4bec8ce",
   "metadata": {},
   "outputs": [
    {
     "name": "stdout",
     "output_type": "stream",
     "text": [
      "Note: you may need to restart the kernel to use updated packages.\n"
     ]
    }
   ],
   "source": [
    "%pip install -Uq langchain-pinecone"
   ]
  },
  {
   "cell_type": "code",
   "execution_count": null,
   "id": "8c9e30b4",
   "metadata": {},
   "outputs": [
    {
     "data": {
      "text/plain": [
       "[Document(id='e534f74b-7425-44ee-acbb-09bd053e23bf', metadata={'source': './tax.docx', 'start_index': 6612.0}, page_content='[전문개정 2009. 12. 31.]\\n\\n\\n\\n제10조(납세지의 변경신고) 거주자나 비거주자는 제6조부터 제9조까지의 규정에 따른 납세지가 변경된 경우 변경된 날부터 15일 이내에 대통령령으로 정하는 바에 따라 그 변경 후의 납세지 관할 세무서장에게 신고하여야 한다.\\n\\n[전문개정 2009. 12. 31.]\\n\\n\\n\\n제11조(과세 관할) 소득세는 제6조부터 제10조까지의 규정에 따른 납세지를 관할하는 세무서장 또는 지방국세청장이 과세한다.\\n\\n[전문개정 2009. 12. 31.]\\n\\n\\n\\n제2장 거주자의 종합소득 및 퇴직소득에 대한 납세의무 <개정 2009. 12. 31.>\\n\\n\\n\\n제1절 비과세 <개정 2009. 12. 31.>\\n\\n\\n\\n제12조(비과세소득) 다음 각 호의 소득에 대해서는 소득세를 과세하지 아니한다. <개정 2010. 12. 27., 2011. 7. 25., 2011. 9. 15., 2012. 2. 1., 2013. 1. 1., 2013. 3. 22., 2014. 1. 1., 2014. 3. 18., 2014. 12. 23., 2015. 12. 15., 2016. 12. 20., 2018. 3. 20., 2018. 12. 31., 2019. 12. 10., 2019. 12. 31., 2020. 6. 9., 2020. 12. 29., 2022. 8. 12., 2022. 12. 31., 2023. 8. 8., 2023. 12. 31., 2024. 12. 31.>\\n\\n1. 「공익신탁법」에 따른 공익신탁의 이익\\n\\n2. 사업소득 중 다음 각 목의 어느 하나에 해당하는 소득\\n\\n가. 논ㆍ밭을 작물 생산에 이용하게 함으로써 발생하는 소득\\n\\n나. 1개의 주택을 소유하는 자의 주택임대소득(제99조에 따른 기준시가가 12억원을 초과하는 주택 및 국외에 소재하는 주택의 임대소득은 제외한다) 또는 해당 과세기간에 대통령령으로 정하는 총수입금액의 합계액이 2천만원 이하인 자의 주택임대소득(2018년 12월 31일 이전에 끝나는 과세기간까지 발생하는 소득으로 한정한다). 이 경우 주택 수의 계산 및 주택임대소득의 산정 등 필요한 사항은 대통령령으로 정한다.\\n\\n다. 대통령령으로 정하는 농어가부업소득\\n\\n라. 대통령령으로 정하는 전통주의 제조에서 발생하는 소득\\n\\n마. 조림기간 5년 이상인 임지(林地)의 임목(林木)의 벌채 또는 양도로 발생하는 소득으로서 연 600만원 이하의 금액. 이 경우 조림기간 및 세액의 계산 등 필요한 사항은 대통령령으로 정한다.\\n\\n바. 대통령령으로 정하는 작물재배업에서 발생하는 소득\\n\\n사. 대통령령으로 정하는 어로어업 또는 양식어업에서 발생하는 소득\\n\\n3. 근로소득과 퇴직소득 중 다음 각 목의 어느 하나에 해당하는 소득\\n\\n가. 대통령령으로 정하는 복무 중인 병(兵)이 받는 급여\\n\\n나. 법률에 따라 동원된 사람이 그 동원 직장에서 받는 급여')]"
      ]
     },
     "execution_count": 7,
     "metadata": {},
     "output_type": "execute_result"
    }
   ],
   "source": [
    "import os\n",
    "\n",
    "from langchain_community.document_loaders import Docx2txtLoader\n",
    "from langchain_text_splitters import RecursiveCharacterTextSplitter\n",
    "from langchain_pinecone import PineconeVectorStore\n",
    "from langchain_openai import OpenAIEmbeddings\n",
    "from pinecone import Pinecone\n",
    "from dotenv import load_dotenv\n",
    "\n",
    "load_dotenv()\n",
    "\n",
    "pc = Pinecone()\n",
    "db_name = \"tax\"\n",
    "\n",
    "text_splitter = RecursiveCharacterTextSplitter(\n",
    "  chunk_size=1500,\n",
    "  chunk_overlap=200,\n",
    "  add_start_index=True,\n",
    ")\n",
    "\n",
    "splitted_docs = Docx2txtLoader(\"./tax.docx\").load_and_split(text_splitter=text_splitter)\n",
    "\n",
    "# 아래 코드는 실행할 때마다 document를 통해 raw가 추가되므로 처음 한 번만 실행한다.\n",
    "# pinecone dashboard를 보면 `browser tab`에서 raw(data)들이 들어온 것을 확인할 수 있다.\n",
    "# tax_vector_store = PineconeVectorStore.from_documents(\n",
    "#   documents=splitted_docs,\n",
    "#   embedding=OpenAIEmbeddings(model=\"text-embedding-3-large\"),\n",
    "#   index_name=db_name, # image에서 db(index)의 이름을 \"tax\"로 지정함\n",
    "# )\n",
    "\n",
    "\n",
    "# ! 위에서 row(data)를 가지고 있는 pinecone index를 생성하였으므로 기존 index에서 가져오기\n",
    "tax_pinecone_store = PineconeVectorStore.from_existing_index(\n",
    "  index_name=db_name,\n",
    "  embedding=OpenAIEmbeddings(model=\"text-embedding-3-large\"),\n",
    ")\n"
   ]
  },
  {
   "cell_type": "markdown",
   "id": "f82047d3",
   "metadata": {},
   "source": [
    "# Retrieval Phase"
   ]
  },
  {
   "cell_type": "code",
   "execution_count": 8,
   "id": "68a5e0d5",
   "metadata": {},
   "outputs": [
    {
     "data": {
      "text/plain": [
       "[Document(id='e534f74b-7425-44ee-acbb-09bd053e23bf', metadata={'source': './tax.docx', 'start_index': 6612.0}, page_content='[전문개정 2009. 12. 31.]\\n\\n\\n\\n제10조(납세지의 변경신고) 거주자나 비거주자는 제6조부터 제9조까지의 규정에 따른 납세지가 변경된 경우 변경된 날부터 15일 이내에 대통령령으로 정하는 바에 따라 그 변경 후의 납세지 관할 세무서장에게 신고하여야 한다.\\n\\n[전문개정 2009. 12. 31.]\\n\\n\\n\\n제11조(과세 관할) 소득세는 제6조부터 제10조까지의 규정에 따른 납세지를 관할하는 세무서장 또는 지방국세청장이 과세한다.\\n\\n[전문개정 2009. 12. 31.]\\n\\n\\n\\n제2장 거주자의 종합소득 및 퇴직소득에 대한 납세의무 <개정 2009. 12. 31.>\\n\\n\\n\\n제1절 비과세 <개정 2009. 12. 31.>\\n\\n\\n\\n제12조(비과세소득) 다음 각 호의 소득에 대해서는 소득세를 과세하지 아니한다. <개정 2010. 12. 27., 2011. 7. 25., 2011. 9. 15., 2012. 2. 1., 2013. 1. 1., 2013. 3. 22., 2014. 1. 1., 2014. 3. 18., 2014. 12. 23., 2015. 12. 15., 2016. 12. 20., 2018. 3. 20., 2018. 12. 31., 2019. 12. 10., 2019. 12. 31., 2020. 6. 9., 2020. 12. 29., 2022. 8. 12., 2022. 12. 31., 2023. 8. 8., 2023. 12. 31., 2024. 12. 31.>\\n\\n1. 「공익신탁법」에 따른 공익신탁의 이익\\n\\n2. 사업소득 중 다음 각 목의 어느 하나에 해당하는 소득\\n\\n가. 논ㆍ밭을 작물 생산에 이용하게 함으로써 발생하는 소득\\n\\n나. 1개의 주택을 소유하는 자의 주택임대소득(제99조에 따른 기준시가가 12억원을 초과하는 주택 및 국외에 소재하는 주택의 임대소득은 제외한다) 또는 해당 과세기간에 대통령령으로 정하는 총수입금액의 합계액이 2천만원 이하인 자의 주택임대소득(2018년 12월 31일 이전에 끝나는 과세기간까지 발생하는 소득으로 한정한다). 이 경우 주택 수의 계산 및 주택임대소득의 산정 등 필요한 사항은 대통령령으로 정한다.\\n\\n다. 대통령령으로 정하는 농어가부업소득\\n\\n라. 대통령령으로 정하는 전통주의 제조에서 발생하는 소득\\n\\n마. 조림기간 5년 이상인 임지(林地)의 임목(林木)의 벌채 또는 양도로 발생하는 소득으로서 연 600만원 이하의 금액. 이 경우 조림기간 및 세액의 계산 등 필요한 사항은 대통령령으로 정한다.\\n\\n바. 대통령령으로 정하는 작물재배업에서 발생하는 소득\\n\\n사. 대통령령으로 정하는 어로어업 또는 양식어업에서 발생하는 소득\\n\\n3. 근로소득과 퇴직소득 중 다음 각 목의 어느 하나에 해당하는 소득\\n\\n가. 대통령령으로 정하는 복무 중인 병(兵)이 받는 급여\\n\\n나. 법률에 따라 동원된 사람이 그 동원 직장에서 받는 급여')]"
      ]
     },
     "execution_count": 8,
     "metadata": {},
     "output_type": "execute_result"
    }
   ],
   "source": [
    "retrieved_docs = tax_pinecone_store.similarity_search(\"소득세란 무엇인가요?\", k = 1)\n",
    "retrieved_docs"
   ]
  },
  {
   "cell_type": "markdown",
   "id": "1938308d",
   "metadata": {},
   "source": [
    "# QA Chain"
   ]
  },
  {
   "cell_type": "code",
   "execution_count": 9,
   "id": "dfae2119",
   "metadata": {},
   "outputs": [
    {
     "name": "stderr",
     "output_type": "stream",
     "text": [
      "/Users/pgj/.pyenv/versions/3.13.3/envs/inflearn-rag-llm-application/lib/python3.13/site-packages/langsmith/client.py:272: LangSmithMissingAPIKeyWarning: API key must be provided when using hosted LangSmith API\n",
      "  warnings.warn(\n"
     ]
    }
   ],
   "source": [
    "from langchain_openai import ChatOpenAI, OpenAIEmbeddings\n",
    "from langchain import hub\n",
    "from langchain.chains import RetrievalQA\n",
    "\n",
    "llm = ChatOpenAI(model=\"gpt-4o\")\n",
    "prompt = hub.pull(\"rlm/rag-prompt\")\n",
    "\n",
    "qa_chain = RetrievalQA.from_chain_type(\n",
    "  llm=llm,\n",
    "  retriever=tax_pinecone_store.as_retriever(kwargs={\"k\": 1}),\n",
    "  chain_type_kwargs={\"prompt\": prompt}\n",
    ")"
   ]
  },
  {
   "cell_type": "code",
   "execution_count": 12,
   "id": "c3187d4c",
   "metadata": {},
   "outputs": [
    {
     "data": {
      "text/plain": [
       "'죄송하지만, 주어진 문맥에서 연봉 5천만원인 직장인의 소득세 계산에 관한 구체적인 정보를 찾을 수 없습니다. 소득세는 소득 금액, 공제 항목, 세율 등의 여러 요소에 따라 다를 수 있으며, 정확한 계산을 위해 관련 세법과 조항을 참조해 보시기 바랍니다.'"
      ]
     },
     "execution_count": 12,
     "metadata": {},
     "output_type": "execute_result"
    }
   ],
   "source": [
    "query = \"연봉이 5천만원인 직장인의 소득세는 얼마인가요?\"\n",
    "result = qa_chain.invoke({\"query\": query})[\"result\"]\n",
    "\n",
    "result"
   ]
  },
  {
   "cell_type": "markdown",
   "id": "c467f5db",
   "metadata": {},
   "source": [
    "<span style=\"color:lightgreen;\">이렇게 langchain을 활용하면 database가 변경될 때나 RAG를 구축할 때의 loader 등등을 쉽게 깔아끼울 수 있다.</span>"
   ]
  }
 ],
 "metadata": {
  "kernelspec": {
   "display_name": "inflearn-rag-llm-application",
   "language": "python",
   "name": "python3"
  },
  "language_info": {
   "codemirror_mode": {
    "name": "ipython",
    "version": 3
   },
   "file_extension": ".py",
   "mimetype": "text/x-python",
   "name": "python",
   "nbconvert_exporter": "python",
   "pygments_lexer": "ipython3",
   "version": "3.13.3"
  }
 },
 "nbformat": 4,
 "nbformat_minor": 5
}
