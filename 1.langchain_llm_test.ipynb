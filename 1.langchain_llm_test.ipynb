{
 "cells": [
  {
   "cell_type": "markdown",
   "id": "2b0c7481",
   "metadata": {},
   "source": [
    "envfile 불러오기"
   ]
  },
  {
   "cell_type": "code",
   "execution_count": 1,
   "id": "e90a976b",
   "metadata": {},
   "outputs": [
    {
     "data": {
      "text/plain": [
       "True"
      ]
     },
     "execution_count": 1,
     "metadata": {},
     "output_type": "execute_result"
    }
   ],
   "source": [
    "from dotenv import load_dotenv\n",
    "\n",
    "load_dotenv()"
   ]
  },
  {
   "cell_type": "markdown",
   "id": "293c3cec",
   "metadata": {},
   "source": [
    "ChatOpenAI class를 통한 langchain 생성"
   ]
  },
  {
   "cell_type": "code",
   "execution_count": 4,
   "id": "4ae00092",
   "metadata": {},
   "outputs": [],
   "source": [
    "from langchain_openai import ChatOpenAI\n",
    "\n",
    "llm = ChatOpenAI()"
   ]
  },
  {
   "cell_type": "markdown",
   "id": "e77d7d2a",
   "metadata": {},
   "source": [
    "실행"
   ]
  },
  {
   "cell_type": "code",
   "execution_count": 7,
   "id": "f489f63a",
   "metadata": {},
   "outputs": [],
   "source": [
    "inflearn_message = llm.invoke(\"인프런에 어떤 강의가 있나요?\")"
   ]
  },
  {
   "cell_type": "code",
   "execution_count": 8,
   "id": "04199328",
   "metadata": {},
   "outputs": [
    {
     "data": {
      "text/plain": [
       "'인프런은 다양한 주제의 강의를 제공하는 국내 최대의 온라인 교육 플랫폼입니다. 인프런에서는 프로그래밍, 비즈니스, 마케팅, 디자인, 언어 등 다양한 분야의 강의를 수강할 수 있습니다. 특히 프로그래밍 언어나 데이터 분석, 머신러닝, 인공지능 등의 기술에 관련된 강의도 다양하게 제공되고 있습니다. 또한 취업을 위한 강의나 취미를 위한 강의도 다양하게 제공되고 있어 개인의 필요에 맞게 선택할 수 있습니다. 인프런에서 관심 있는 주제의 강의를 찾아보시면 좋을 것 같습니다.'"
      ]
     },
     "execution_count": 8,
     "metadata": {},
     "output_type": "execute_result"
    }
   ],
   "source": [
    "inflearn_message.content"
   ]
  },
  {
   "cell_type": "code",
   "execution_count": null,
   "id": "e4377984",
   "metadata": {},
   "outputs": [],
   "source": []
  }
 ],
 "metadata": {
  "kernelspec": {
   "display_name": "inflearn-rag-llm-application",
   "language": "python",
   "name": "python3"
  },
  "language_info": {
   "codemirror_mode": {
    "name": "ipython",
    "version": 3
   },
   "file_extension": ".py",
   "mimetype": "text/x-python",
   "name": "python",
   "nbconvert_exporter": "python",
   "pygments_lexer": "ipython3",
   "version": "3.13.3"
  }
 },
 "nbformat": 4,
 "nbformat_minor": 5
}
