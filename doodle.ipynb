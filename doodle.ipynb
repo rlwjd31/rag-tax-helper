{
 "cells": [
  {
   "cell_type": "code",
   "execution_count": null,
   "id": "8a3ad8f8",
   "metadata": {},
   "outputs": [],
   "source": [
    "from langchain_community.document_loaders import Docx2txtLoader\n",
    "from langchain_text_splitters import RecursiveCharacterTextSplitter\n",
    "\n",
    "\n",
    "text_splitter = RecursiveCharacterTextSplitter(\n",
    "  chunk_size=1500,\n",
    "  chunk_overlap=200,\n",
    "  add_start_index=True\n",
    ")\n",
    "\n",
    "loader = Docx2txtLoader(\"./tax.docx\")\n",
    "document_list = loader.load_and_split(text_splitter=text_splitter)\n",
    "\n",
    "document_list\n"
   ]
  },
  {
   "cell_type": "code",
   "execution_count": null,
   "id": "9ca8b4f8",
   "metadata": {},
   "outputs": [
    {
     "data": {
      "text/plain": [
       "<langchain_chroma.vectorstores.Chroma at 0x108052e90>"
      ]
     },
     "execution_count": 6,
     "metadata": {},
     "output_type": "execute_result"
    }
   ],
   "source": [
    "from langchain_openai import OpenAIEmbeddings\n",
    "from langchain_chroma import Chroma\n",
    "from dotenv import load_dotenv\n",
    "\n",
    "tax_db_path = \"./tax_db\"\n",
    "tax_collection_name = \"tax\"\n",
    "\n",
    "load_dotenv()\n",
    "embedding_func = OpenAIEmbeddings(model=\"text-embedding-3-large\")\n",
    "tax_chroma_db = Chroma(persist_directory=tax_db_path, embedding_function=embedding_func, collection_name=tax_collection_name)\n"
   ]
  },
  {
   "cell_type": "code",
   "execution_count": 7,
   "id": "ccad985f",
   "metadata": {},
   "outputs": [
    {
     "data": {
      "text/plain": [
       "[Document(id='71efc609-a5d7-4693-899b-a2eb81739b10', metadata={'start_index': 6612, 'source': './tax.docx'}, page_content='[전문개정 2009. 12. 31.]\\n\\n\\n\\n제10조(납세지의 변경신고) 거주자나 비거주자는 제6조부터 제9조까지의 규정에 따른 납세지가 변경된 경우 변경된 날부터 15일 이내에 대통령령으로 정하는 바에 따라 그 변경 후의 납세지 관할 세무서장에게 신고하여야 한다.\\n\\n[전문개정 2009. 12. 31.]\\n\\n\\n\\n제11조(과세 관할) 소득세는 제6조부터 제10조까지의 규정에 따른 납세지를 관할하는 세무서장 또는 지방국세청장이 과세한다.\\n\\n[전문개정 2009. 12. 31.]\\n\\n\\n\\n제2장 거주자의 종합소득 및 퇴직소득에 대한 납세의무 <개정 2009. 12. 31.>\\n\\n\\n\\n제1절 비과세 <개정 2009. 12. 31.>\\n\\n\\n\\n제12조(비과세소득) 다음 각 호의 소득에 대해서는 소득세를 과세하지 아니한다. <개정 2010. 12. 27., 2011. 7. 25., 2011. 9. 15., 2012. 2. 1., 2013. 1. 1., 2013. 3. 22., 2014. 1. 1., 2014. 3. 18., 2014. 12. 23., 2015. 12. 15., 2016. 12. 20., 2018. 3. 20., 2018. 12. 31., 2019. 12. 10., 2019. 12. 31., 2020. 6. 9., 2020. 12. 29., 2022. 8. 12., 2022. 12. 31., 2023. 8. 8., 2023. 12. 31., 2024. 12. 31.>\\n\\n1. 「공익신탁법」에 따른 공익신탁의 이익\\n\\n2. 사업소득 중 다음 각 목의 어느 하나에 해당하는 소득\\n\\n가. 논ㆍ밭을 작물 생산에 이용하게 함으로써 발생하는 소득\\n\\n나. 1개의 주택을 소유하는 자의 주택임대소득(제99조에 따른 기준시가가 12억원을 초과하는 주택 및 국외에 소재하는 주택의 임대소득은 제외한다) 또는 해당 과세기간에 대통령령으로 정하는 총수입금액의 합계액이 2천만원 이하인 자의 주택임대소득(2018년 12월 31일 이전에 끝나는 과세기간까지 발생하는 소득으로 한정한다). 이 경우 주택 수의 계산 및 주택임대소득의 산정 등 필요한 사항은 대통령령으로 정한다.\\n\\n다. 대통령령으로 정하는 농어가부업소득\\n\\n라. 대통령령으로 정하는 전통주의 제조에서 발생하는 소득\\n\\n마. 조림기간 5년 이상인 임지(林地)의 임목(林木)의 벌채 또는 양도로 발생하는 소득으로서 연 600만원 이하의 금액. 이 경우 조림기간 및 세액의 계산 등 필요한 사항은 대통령령으로 정한다.\\n\\n바. 대통령령으로 정하는 작물재배업에서 발생하는 소득\\n\\n사. 대통령령으로 정하는 어로어업 또는 양식어업에서 발생하는 소득\\n\\n3. 근로소득과 퇴직소득 중 다음 각 목의 어느 하나에 해당하는 소득\\n\\n가. 대통령령으로 정하는 복무 중인 병(兵)이 받는 급여\\n\\n나. 법률에 따라 동원된 사람이 그 동원 직장에서 받는 급여'),\n",
       " Document(id='3b79e50b-4c94-4120-893d-abfe938c7ae0', metadata={'start_index': 11798, 'source': './tax.docx'}, page_content='바. 「문화유산의 보존 및 활용에 관한 법률」에 따라 국가지정문화유산으로 지정된 서화ㆍ골동품의 양도로 발생하는 소득\\n\\n사. 서화ㆍ골동품을 박물관 또는 미술관에 양도함으로써 발생하는 소득\\n\\n아. 제21조제1항제26호에 따른 종교인소득 중 다음의 어느 하나에 해당하는 소득\\n\\n\\u3000\\u3000\\u3000\\u30001) 「통계법」 제22조에 따라 통계청장이 고시하는 한국표준직업분류에 따른 종교관련종사자(이하 “종교관련종사자”라 한다)가 받는 대통령령으로 정하는 학자금\\n\\n\\u3000\\u3000\\u3000\\u30002) 종교관련종사자가 받는 대통령령으로 정하는 식사 또는 식사대\\n\\n\\u3000\\u3000\\u3000\\u30003) 종교관련종사자가 받는 대통령령으로 정하는 실비변상적 성질의 지급액\\n\\n\\u3000\\u3000\\u3000\\u30004) 종교관련종사자 또는 그 배우자의 출산이나 6세 이하(해당 과세기간 개시일을 기준으로 판단한다) 자녀의 보육과 관련하여 종교단체로부터 받는 금액으로서 월 20만원 이내의 금액\\n\\n\\u3000\\u3000\\u3000\\u30005) 종교관련종사자가 기획재정부령으로 정하는 사택을 제공받아 얻는 이익\\n\\n자. 법령ㆍ조례에 따른 위원회 등의 보수를 받지 아니하는 위원(학술원 및 예술원의 회원을 포함한다) 등이 받는 수당\\n\\n[전문개정 2009. 12. 31.]\\n\\n\\n\\n제13조 삭제 <2009. 12. 31.>\\n\\n\\n\\n제2절 과세표준과 세액의 계산 <개정 2009. 12. 31.>\\n\\n\\n\\n제1관 세액계산 통칙 <개정 2009. 12. 31.>\\n\\n\\n\\n제14조(과세표준의 계산) ① 거주자의 종합소득 및 퇴직소득에 대한 과세표준은 각각 구분하여 계산한다.\\n\\n② 종합소득에 대한 과세표준(이하 “종합소득과세표준”이라 한다)은 제16조, 제17조, 제19조, 제20조, 제20조의3, 제21조, 제24조부터 제26조까지, 제27조부터 제29조까지, 제31조부터 제35조까지, 제37조, 제39조, 제41조부터 제46조까지, 제46조의2, 제47조 및 제47조의2에 따라 계산한 이자소득금액, 배당소득금액, 사업소득금액, 근로소득금액, 연금소득금액 및 기타소득금액의 합계액(이하 “종합소득금액”이라 한다)에서 제50조, 제51조, 제51조의3, 제51조의4 및 제52조에 따른 공제(이하 “종합소득공제”라 한다)를 적용한 금액으로 한다.<개정 2013. 1. 1., 2014. 1. 1.>\\n\\n③ 다음 각 호에 따른 소득의 금액은 종합소득과세표준을 계산할 때 합산하지 아니한다.<개정 2010. 12. 27., 2011. 7. 14., 2013. 1. 1., 2014. 12. 23., 2015. 12. 15., 2017. 12. 19., 2018. 12. 31., 2019. 12. 31., 2020. 12. 29., 2023. 12. 31.>\\n\\n1. 「조세특례제한법」 또는 이 법 제12조에 따라 과세되지 아니하는 소득\\n\\n2. 대통령령으로 정하는 일용근로자(이하 “일용근로자”라 한다)의 근로소득\\n\\n3. 제129조제2항의 세율에 따라 원천징수하는 이자소득 및 배당소득과 제16조제1항제10호에 따른 직장공제회 초과반환금'),\n",
       " Document(id='8349db33-78da-4f5b-af51-113095850cec', metadata={'source': './tax.docx', 'start_index': 10481}, page_content='2) 대학의 교직원 또는 대학과 고용관계가 있는 학생이 소속 대학에 설치된 「산업교육진흥 및 산학연협력촉진에 관한 법률」 제25조에 따른 산학협력단(이하 이 조에서 “산학협력단”이라 한다)으로부터 같은 법 제32조제1항제4호에 따라 받는 보상금\\n\\n저. 대통령령으로 정하는 복리후생적 성질의 급여\\n\\n처. 제20조제1항제6호에 따른 소득 중 다음의 요건을 모두 충족하는 소득으로서 대통령령으로 정하는 금액 이하의 금액\\n\\n1) 임원 또는 종업원(이하 이 조, 제20조 및 제164조의5에서 “임원등”이라 한다) 본인이 소비하는 것을 목적으로 제공받거나 지원을 받아 구입한 재화 또는 용역으로서 대통령령으로 정하는 기간 동안 재판매가 허용되지 아니할 것\\n\\n2) 해당 재화 또는 용역의 제공과 관련하여 모든 임원등에게 공통으로 적용되는 기준이 있을 것\\n\\n4. 연금소득 중 다음 각 목의 어느 하나에 해당하는 소득\\n\\n가. 「국민연금법」, 「공무원연금법」 또는 「공무원 재해보상법」, 「군인연금법」 또는 「군인 재해보상법」, 「사립학교교직원 연금법」, 「별정우체국법」 또는 「국민연금과 직역연금의 연계에 관한 법률」(이하 “공적연금 관련법”이라 한다)에 따라 받는 유족연금ㆍ퇴직유족연금ㆍ퇴역유족연금ㆍ장해유족연금ㆍ상이유족연금ㆍ순직유족연금ㆍ직무상유족연금ㆍ위험직무순직유족연금, 장애연금, 장해연금ㆍ비공무상 장해연금ㆍ비직무상 장해연금, 상이연금(傷痍年金), 연계노령유족연금 또는 연계퇴직유족연금\\n\\n나. 삭제<2013. 1. 1.>\\n\\n다. 「산업재해보상보험법」에 따라 받는 각종 연금\\n\\n라. 「국군포로의 송환 및 대우 등에 관한 법률」에 따른 국군포로가 받는 연금\\n\\n마. 삭제<2013. 1. 1.>\\n\\n5. 기타소득 중 다음 각 목의 어느 하나에 해당하는 소득\\n\\n가. 「국가유공자 등 예우 및 지원에 관한 법률」 또는 「보훈보상대상자 지원에 관한 법률」에 따라 받는 보훈급여금ㆍ학습보조비 및 「북한이탈주민의 보호 및 정착지원에 관한 법률」에 따라 받는 정착금ㆍ보로금(報勞金)과 그 밖의 금품\\n\\n나. 「국가보안법」에 따라 받는 상금과 보로금\\n\\n다. 「상훈법」에 따른 훈장과 관련하여 받는 부상(副賞)이나 그 밖에 대통령령으로 정하는 상금과 부상\\n\\n라. 종업원등 또는 대학의 교직원이 퇴직한 후에 사용자등 또는 산학협력단으로부터 지급받거나 대학의 학생이 소속 대학에 설치된 산학협력단으로부터 받는 직무발명보상금으로서 대통령령으로 정하는 금액. 다만, 직무발명보상금을 지급한 사용자등 또는 산학협력단과 대통령령으로 정하는 특수관계에 있는 자가 받는 직무발명보상금은 제외한다.\\n\\n마. 「국군포로의 송환 및 대우 등에 관한 법률」에 따라 국군포로가 받는 위로지원금과 그 밖의 금품\\n\\n바. 「문화유산의 보존 및 활용에 관한 법률」에 따라 국가지정문화유산으로 지정된 서화ㆍ골동품의 양도로 발생하는 소득\\n\\n사. 서화ㆍ골동품을 박물관 또는 미술관에 양도함으로써 발생하는 소득\\n\\n아. 제21조제1항제26호에 따른 종교인소득 중 다음의 어느 하나에 해당하는 소득')]"
      ]
     },
     "execution_count": 7,
     "metadata": {},
     "output_type": "execute_result"
    }
   ],
   "source": [
    "retrieved_docs = tax_chroma_db.similarity_search(query=\"연봉이 5천만원인 직장인의 소득세는 얼마인가요?\", k=3)\n",
    "retrieved_docs"
   ]
  },
  {
   "cell_type": "code",
   "execution_count": null,
   "id": "6f97d0a7",
   "metadata": {},
   "outputs": [],
   "source": [
    "# tax_document = Docx2txtLoader(\"./tax.docx\").load()\n",
    "# splitted_documents = text_splitter.split_documents(tax_document)\n",
    "# splitted_documents\n",
    "\n",
    "# splitted_documents = Docx2txtLoader(\"./tax.docx\").load_and_split(text_splitter=text_splitter)"
   ]
  },
  {
   "cell_type": "code",
   "execution_count": null,
   "id": "08ef63fa",
   "metadata": {},
   "outputs": [],
   "source": [
    "query = \"연봉이 5천만원인 직장인의 소득세는 얼마인가요?\"\n",
    "retrieved_context = tax_chroma_db.similarity_search(query=query, k=4)"
   ]
  },
  {
   "cell_type": "code",
   "execution_count": null,
   "id": "0f3b362d",
   "metadata": {},
   "outputs": [],
   "source": [
    "from langchain_openai import ChatOpenAI\n",
    "\n",
    "llm = ChatOpenAI(model=\"gpt-4o\")\n",
    "\n",
    "prompt = f\"\"\"\n",
    "[Identity]\n",
    "- 당신은 최고의 한국 소득세 전문가입니다.\n",
    "- [Context]를 참고해서 질문에 답변해주세요.\n",
    "\n",
    "[Context]\n",
    "{retrieved_context}\n",
    "\n",
    "Question: {query}\n",
    "\"\"\"\n",
    "\n",
    "answer = llm.invoke(prompt)"
   ]
  },
  {
   "cell_type": "code",
   "execution_count": 23,
   "id": "e74869d5",
   "metadata": {},
   "outputs": [
    {
     "data": {
      "text/plain": [
       "'소득세는 다양한 요소에 따라 달라지며, 연봉뿐만 아니라 공제, 세율, 세액공제 등을 고려하여 정확한 계산이 필요합니다. 한국의 소득세율은 누진세 구조를 따르며, 과세표준에 따라 다른 세율이 적용됩니다. \\n\\n연봉이 5천만원인 직장인의 소득세를 대략적으로 계산하기 위해서는 아래와 같은 기본적인 단계를 참고할 수 있습니다:\\n\\n1. **과세표준 계산**:\\n   - 총 급여에서 근로소득공제, 연금소득공제 등을 차감하여 과세표준을 계산합니다.\\n\\n2. **세율 적용**:\\n   - 계산된 과세표준에 해당하는 세율을 적용합니다. 한국의 소득세율은 단계별로 다른 세율이 적용되며, 과세표준이 높을수록 세율이 높아집니다. \\n\\n3. **세액공제**:\\n   - 산출된 세액에서 연말정산에 따른 세액공제를 적용하여 최종 소득세를 계산합니다.\\n\\n일반적으로 연봉 5천만원인 경우 다음 항목들을 고려할 수 있습니다:\\n- 근로소득공제: 일정 비율로 공제, 최대 2천만원까지\\n- 세율구간: 과세표준에 따라 6%, 15%, 24% 등의 세율이 적용됨\\n- 세액공제: 공제 가능한 항목에 따라 달라집니다\\n\\n보다 정확한 계산을 위해 소득세 계산기를 사용하거나, 세제 전문가와 상담하는 것이 좋습니다. 구체적인 항목별 공제와 세율, 공제 항목 등에 따라 최종 세액이 달라질 수 있기 때문입니다.'"
      ]
     },
     "execution_count": 23,
     "metadata": {},
     "output_type": "execute_result"
    }
   ],
   "source": [
    "answer.content"
   ]
  },
  {
   "cell_type": "code",
   "execution_count": null,
   "id": "a1b0bf2d",
   "metadata": {},
   "outputs": [],
   "source": [
    "\n",
    "\n",
    "query = \"연봉이 5천만원인 직장인의 소득세는 얼마인가요?\"\n",
    "retrieved_context = tax_chroma_db.similarity_search(query=query, k=4)\n",
    "\n",
    "retrieved_context"
   ]
  },
  {
   "cell_type": "code",
   "execution_count": 4,
   "id": "0e93dbcd",
   "metadata": {},
   "outputs": [
    {
     "data": {
      "text/plain": [
       "['tax', 'langchain']"
      ]
     },
     "execution_count": 4,
     "metadata": {},
     "output_type": "execute_result"
    }
   ],
   "source": [
    "from langchain_chroma import Chroma\n",
    "\n",
    "tax_db_path = \"./tax_db\"\n",
    "\n",
    "\n",
    "tempDB = Chroma(persist_directory=tax_db_path)\n",
    "collections = [collection.name for collection in tempDB._client.list_collections()]\n",
    "\n",
    "collections"
   ]
  },
  {
   "cell_type": "code",
   "execution_count": null,
   "id": "a3b85bda",
   "metadata": {},
   "outputs": [],
   "source": []
  },
  {
   "cell_type": "code",
   "execution_count": 4,
   "id": "dede9a6b",
   "metadata": {},
   "outputs": [
    {
     "name": "stderr",
     "output_type": "stream",
     "text": [
      "/Users/pgj/.pyenv/versions/3.13.3/envs/inflearn-rag-llm-application/lib/python3.13/site-packages/langsmith/client.py:272: LangSmithMissingAPIKeyWarning: API key must be provided when using hosted LangSmith API\n",
      "  warnings.warn(\n"
     ]
    },
    {
     "data": {
      "text/plain": [
       "{'query': '연봉이 5천만원인 직장인의 소득세는 얼마인가요?',\n",
       " 'result': '이 문맥에서는 특정 연봉에 따른 소득세율이나 계산 방법이 제공되지 않았습니다. 연봉이 5천만 원인 직장인의 소득세를 계산하려면 세율표와 관련 공제를 확인해야 합니다. 더욱 구체적인 정보가 필요합니다.'}"
      ]
     },
     "execution_count": 4,
     "metadata": {},
     "output_type": "execute_result"
    }
   ],
   "source": [
    "import os\n",
    "from typing import List\n",
    "from langchain.schema import Document\n",
    "from langchain_community.document_loaders import Docx2txtLoader\n",
    "from langchain import hub\n",
    "from langchain.chains import RetrievalQA\n",
    "from langchain_text_splitters import RecursiveCharacterTextSplitter\n",
    "from langchain_chroma import Chroma\n",
    "from langchain_openai import OpenAIEmbeddings, ChatOpenAI\n",
    "from dotenv import load_dotenv\n",
    "\n",
    "def setup_chroma_db(\n",
    "    persist_directory: str = \"./tax_db\",\n",
    "    collection_name: str = \"tax\",\n",
    "    splitted_documents: List[Document] = \"./tax.docx\",\n",
    ") -> Chroma:\n",
    "  \"\"\"\n",
    "  collection_name이 존재하지 않으면 새로 생성하고, 존재하면 기존 Chroma DB를 반환\n",
    "  \n",
    "  Args:\n",
    "        persist_directory: 벡터 DB 저장 경로\n",
    "        collection_name: 컬렉션 이름\n",
    "        splitted_documents: 텍스트 청크 리스트\n",
    "    \n",
    "  Returns:\n",
    "      Chroma: 설정된 Chroma 벡터 DB 인스턴스\n",
    "  \"\"\"\n",
    "\n",
    "    # 기존 벡터 DB가 있는지 확인 (chroma.sqlite3 파일 존재 여부)\n",
    "  chroma_db_path = os.path.join(persist_directory, \"chroma.sqlite3\")\n",
    "  is_db_exists = os.path.exists(chroma_db_path)\n",
    "  embedding = OpenAIEmbeddings(model=\"text-embedding-3-large\")\n",
    "  \n",
    "  if (is_db_exists and \n",
    "    collection_name in [collection.name for collection in Chroma(persist_directory=persist_directory)._client.list_collections()]\n",
    "  ):\n",
    "    return Chroma(\n",
    "      persist_directory=persist_directory,\n",
    "      collection_name=collection_name,\n",
    "      embedding_function=embedding,\n",
    "    )\n",
    "\n",
    "  return Chroma.from_documents(\n",
    "    documents=splitted_documents,\n",
    "    embedding=embedding,\n",
    "    persist_directory=persist_directory,\n",
    "    collection_name=collection_name\n",
    "  )\n",
    "  \n",
    "TAX_DB_PATH = \"./tax_db\"\n",
    "TAX_COLLECTION_NAME = \"tax\"\n",
    "\n",
    "load_dotenv()\n",
    "\n",
    "splitted_documents = Docx2txtLoader(\"./tax.docx\").load_and_split(\n",
    "  text_splitter=RecursiveCharacterTextSplitter(\n",
    "    chunk_size=1500,\n",
    "    chunk_overlap=200,\n",
    "    add_start_index=True\n",
    "  )\n",
    ")\n",
    "\n",
    "len(splitted_documents)\n",
    "\n",
    "tax_chroma_db = setup_chroma_db(\n",
    "  splitted_documents=splitted_documents, \n",
    "  persist_directory=TAX_DB_PATH, \n",
    "  collection_name=TAX_COLLECTION_NAME\n",
    ")\n",
    "\n",
    "qa_chain = RetrievalQA.from_chain_type(\n",
    "  llm=ChatOpenAI(model=\"gpt-4o\"),\n",
    "  retriever=tax_chroma_db.as_retriever(search_kwargs={\"k\": 2}),\n",
    "  chain_type_kwargs={\"prompt\": hub.pull(\"rlm/rag-prompt\")}\n",
    ")\n",
    "\n",
    "query = \"연봉이 5천만원인 직장인의 소득세는 얼마인가요?\"\n",
    "result = qa_chain({\"query\": query})\n",
    "\n",
    "result"
   ]
  },
  {
   "cell_type": "markdown",
   "id": "ad1eaabb",
   "metadata": {},
   "source": [
    "# cosine smiliarity"
   ]
  },
  {
   "cell_type": "code",
   "execution_count": 1,
   "id": "3a2a80e8",
   "metadata": {},
   "outputs": [
    {
     "name": "stdout",
     "output_type": "stream",
     "text": [
      "ERROR: unknown command \"instsall\" - maybe you meant \"install\"\n",
      "Note: you may need to restart the kernel to use updated packages.\n"
     ]
    }
   ],
   "source": [
    "%pip instsall python-dotenv"
   ]
  },
  {
   "cell_type": "code",
   "execution_count": 1,
   "id": "b54dc772",
   "metadata": {},
   "outputs": [
    {
     "data": {
      "text/plain": [
       "True"
      ]
     },
     "execution_count": 1,
     "metadata": {},
     "output_type": "execute_result"
    }
   ],
   "source": [
    "from dotenv import load_dotenv\n",
    "load_dotenv()\n"
   ]
  },
  {
   "cell_type": "code",
   "execution_count": 3,
   "id": "bf55bad8",
   "metadata": {},
   "outputs": [],
   "source": [
    "from openai import OpenAI\n",
    "client = OpenAI()"
   ]
  },
  {
   "cell_type": "code",
   "execution_count": 4,
   "id": "5985893d",
   "metadata": {},
   "outputs": [],
   "source": [
    "import numpy as np\n",
    "\n",
    "def cosine_similarity(vec1, vec2):\n",
    "  \"\"\"\n",
    "  Calculate the cosine similarity between two vectors.\n",
    "\n",
    "  Parameters:\n",
    "  vec1 (numpy array): First vector\n",
    "  vec2 (numpy array): second vector\n",
    "  \n",
    "  Returns:\n",
    "  float: Cosine similarity between vec1 and vec2\n",
    "  \"\"\"\n",
    "  dot_product = np.dot(vec1, vec2)\n",
    "  norm_vec1 = np.linalg.norm(vec1)\n",
    "  norm_vec2 = np.linalg.norm(vec2)\n",
    "\n",
    "  if norm_vec1 == 0 or norm_vec2 == 0:\n",
    "    return 0.0\n",
    "  \n",
    "  return dot_product / (norm_vec1 * norm_vec2)"
   ]
  },
  {
   "cell_type": "code",
   "execution_count": 19,
   "id": "bd4b59a4",
   "metadata": {},
   "outputs": [],
   "source": [
    "king_embedded_response = client.embeddings.create(input=\"king\", model=\"text-embedding-3-large\")\n",
    "queen_embedded_response = client.embeddings.create(input=\"queen\", model=\"text-embedding-3-large\")\n",
    "\n",
    "king_vector = np.array(king_embedded_response.data[0].embedding)\n",
    "queen_vector = np.array(queen_embedded_response.data[0].embedding)"
   ]
  },
  {
   "cell_type": "code",
   "execution_count": 20,
   "id": "3a2c69a0",
   "metadata": {},
   "outputs": [
    {
     "name": "stdout",
     "output_type": "stream",
     "text": [
      "0.5552268369726672\n"
     ]
    }
   ],
   "source": [
    "king_queen_similarity = cosine_similarity(king_vector, queen_vector)\n",
    "print(king_queen_similarity)"
   ]
  },
  {
   "cell_type": "code",
   "execution_count": null,
   "id": "87baf83d",
   "metadata": {},
   "outputs": [],
   "source": []
  }
 ],
 "metadata": {
  "kernelspec": {
   "display_name": "inflearn-rag-llm-application",
   "language": "python",
   "name": "python3"
  },
  "language_info": {
   "codemirror_mode": {
    "name": "ipython",
    "version": 3
   },
   "file_extension": ".py",
   "mimetype": "text/x-python",
   "name": "python",
   "nbconvert_exporter": "python",
   "pygments_lexer": "ipython3",
   "version": "3.13.3"
  }
 },
 "nbformat": 4,
 "nbformat_minor": 5
}
